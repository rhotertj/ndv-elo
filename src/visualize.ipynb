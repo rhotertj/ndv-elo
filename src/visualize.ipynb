{
 "cells": [
  {
   "cell_type": "code",
   "execution_count": null,
   "metadata": {},
   "outputs": [],
   "source": [
    "import numpy as np\n",
    "import pandas as pd\n",
    "import seaborn as sns\n",
    "import matplotlib.pyplot as plt\n",
    "import matplotlib.gridspec as grid_spec\n",
    "from matplotlib.colors import ListedColormap\n",
    "import itertools\n",
    "\n",
    "import trueskill\n",
    "from scipy.stats import norm\n",
    "from sqlalchemy import select, insert, update, create_engine, Date, and_\n",
    "from sqlalchemy.orm import Session, aliased\n",
    "\n",
    "import data\n",
    "from report_utils import ( \n",
    "    plot_match_qualities, \n",
    "    plot_ridge_skill_distributions, \n",
    "    plot_paired_skill_distributions, \n",
    "    plot_player_positions_bar,\n",
    "    win_probability\n",
    "    )\n",
    "from common_queries import (\n",
    "    get_player_skill_for_team,\n",
    "    get_previous_matches\n",
    ")\n"
   ]
  },
  {
   "cell_type": "code",
   "execution_count": null,
   "metadata": {},
   "outputs": [],
   "source": [
    "sns.set_context(\"notebook\")\n",
    "sns.set_style(\"white\")"
   ]
  },
  {
   "cell_type": "code",
   "execution_count": null,
   "metadata": {},
   "outputs": [],
   "source": [
    "# TODO Better layout for this notebook\n",
    "# Functions in notebook for:\n",
    "#   - Previous lineup\n",
    "#   - Position distribution per player\n",
    "#   - Get best possible lineup (with best 4 of them?) \n",
    "engine = create_engine(\"sqlite:///../darts.db\")\n",
    "home_club = \"Hannover 96\"\n",
    "away_club = \"1.Dartclub Hildesheim e.V.\"\n",
    "# away_club = \"SC Drop Out Seelze e.V.\"\n",
    "# away_club = \"GVO Oldenburg\"\n",
    "# competition = \"Verbandsliga 1\"\n",
    "competition = \"DBH Bezirksliga 2\"\n",
    "ignore_home = [\"Frank Fuhlrott\", \"Sven Rohde\", \"Oleksil Bondarenko\", \"Timo Trauslen\", \"Nils Oehlmann\" ,\"Andreas Schmidt\"]\n",
    "ignore_away = []\n",
    "\n",
    "home_players = get_player_skill_for_team(engine, home_club, competition, ignore_home)\n",
    "away_players = get_player_skill_for_team(engine, away_club, competition, ignore_away)\n"
   ]
  },
  {
   "cell_type": "code",
   "execution_count": null,
   "metadata": {},
   "outputs": [],
   "source": [
    "f = plot_match_qualities(home_players, away_players)"
   ]
  },
  {
   "cell_type": "code",
   "execution_count": null,
   "metadata": {},
   "outputs": [],
   "source": [
    "f = plot_paired_skill_distributions(home_players=home_players, away_players=away_players)\n"
   ]
  },
  {
   "cell_type": "code",
   "execution_count": null,
   "metadata": {},
   "outputs": [],
   "source": [
    "f = plot_ridge_skill_distributions(home_players=home_players, away_players=away_players)\n"
   ]
  },
  {
   "cell_type": "code",
   "execution_count": null,
   "metadata": {},
   "outputs": [],
   "source": [
    "fig = plot_player_positions_bar(away_players)\n",
    "# TODO Fix: Get positions first, plot is separate function\n",
    "# TODO Plot player positions as trajectory plot\n",
    "# https://benalexkeen.com/parallel-coordinates-in-matplotlib/"
   ]
  },
  {
   "cell_type": "code",
   "execution_count": null,
   "metadata": {},
   "outputs": [],
   "source": [
    "matches = get_previous_matches(home_players, away_players)\n",
    "_ = [print(m) for m in matches]"
   ]
  },
  {
   "cell_type": "code",
   "execution_count": null,
   "metadata": {},
   "outputs": [],
   "source": [
    "def compute_lineup_quality(my_lineup, opponent_lineup):\n",
    "    ps = []\n",
    "    for p1, p2 in zip(my_lineup, opponent_lineup):\n",
    "        wp = win_probability([p1[2]], [p2[2]])\n",
    "        ps.append(wp)\n",
    "    hard = np.round(ps)\n",
    "    return sum(ps), sum(hard)\n",
    "        \n",
    "\n",
    "def get_best_lineup(my_players, opponent_lineup, home=True):\n",
    "    # TODO: Consider substitution player\n",
    "    # TODO: Option to shift perms for away games, even more important :)\n",
    "    # for a given opponent lineup\n",
    "    # create all possible orderings for my_players\n",
    "    # consider switching one player\n",
    "    # compute win probability (soft and hard)\n",
    "    # argmax over ratings to get best one\n",
    "    my_players_perms = itertools.permutations(my_players)\n",
    "    my_players_perms = [perm[:4] for perm in my_players_perms]\n",
    "\n",
    "    perm_rank_soft = []\n",
    "    perm_rank_hard = []\n",
    "    for perm in my_players_perms:\n",
    "        soft_rank, hard_rank = compute_lineup_quality(perm, opponent_lineup)\n",
    "        perm_rank_soft.append(soft_rank)\n",
    "        perm_rank_hard.append(hard_rank)\n",
    "\n",
    "    # instead of shifting all permutations, just shift home downward\n",
    "    if home:\n",
    "        opponent_lineup.insert(0, opponent_lineup.pop()) # shift lineup from away team\n",
    "    else:\n",
    "        opponent_lineup.append(opponent_lineup.pop(0))\n",
    "    # for each permutation we can substitute each player -> quadruples our permutations\n",
    "    for i, perm in enumerate(my_players_perms):\n",
    "        soft_rank, hard_rank = compute_lineup_quality(perm, opponent_lineup)\n",
    "        perm_rank_soft[i] += soft_rank\n",
    "        perm_rank_hard[i] += hard_rank\n",
    "\n",
    "\n",
    "get_best_lineup(home_players, sorted(away_players, key=lambda p : p[2].mu, reverse=True)[:4])\n"
   ]
  }
 ],
 "metadata": {
  "kernelspec": {
   "display_name": "darts",
   "language": "python",
   "name": "python3"
  },
  "language_info": {
   "codemirror_mode": {
    "name": "ipython",
    "version": 3
   },
   "file_extension": ".py",
   "mimetype": "text/x-python",
   "name": "python",
   "nbconvert_exporter": "python",
   "pygments_lexer": "ipython3",
   "version": "3.11.3"
  },
  "orig_nbformat": 4,
  "vscode": {
   "interpreter": {
    "hash": "20144c740b733a94525b57be76640d47fbbf9bb84dc2dc2665832d3a336bdd6f"
   }
  }
 },
 "nbformat": 4,
 "nbformat_minor": 2
}
