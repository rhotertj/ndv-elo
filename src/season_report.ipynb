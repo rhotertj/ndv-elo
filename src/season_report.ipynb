{
 "cells": [
  {
   "cell_type": "code",
   "execution_count": null,
   "metadata": {},
   "outputs": [],
   "source": [
    "import numpy as np\n",
    "import pandas as pd\n",
    "import seaborn as sns\n",
    "import matplotlib.pyplot as plt\n",
    "import matplotlib.gridspec as grid_spec\n",
    "from matplotlib.colors import ListedColormap\n",
    "import itertools\n",
    "from datetime import datetime\n",
    "\n",
    "import trueskill\n",
    "from scipy.stats import norm\n",
    "from sqlalchemy import select, insert, update, create_engine, Date, and_\n",
    "from sqlalchemy.orm import Session, aliased\n",
    "\n",
    "import data\n",
    "from report_utils import ( \n",
    "    plot_match_qualities, \n",
    "    plot_ridge_skill_distributions, \n",
    "    plot_paired_skill_distributions, \n",
    "    plot_player_positions_bar,\n",
    "    win_probability\n",
    "    )\n",
    "from common_queries import (\n",
    "    get_player_skill_for_team,\n",
    "    leaderboard\n",
    ")\n"
   ]
  },
  {
   "cell_type": "code",
   "execution_count": null,
   "metadata": {},
   "outputs": [],
   "source": [
    "sns.set_context(\"notebook\")\n",
    "sns.set_style(\"white\")"
   ]
  },
  {
   "cell_type": "code",
   "execution_count": null,
   "metadata": {},
   "outputs": [],
   "source": [
    "def plot_teams_for_competiton(table_position, players):\n",
    "    df_dict = [\n",
    "    {\n",
    "        \"name\" : player.name,\n",
    "        \"rating\" : player.rating,\n",
    "        \"club\" : player.club,\n",
    "        \"club_rank\" : table_position.index(player.club)\n",
    "    }\n",
    "    for player in players\n",
    "]\n",
    "\n",
    "    df = pd.DataFrame(df_dict)\n",
    "    df.sort_values(by=[\"club\", \"rating\"], inplace=True)\n",
    "    df.reset_index(inplace=True)\n",
    "\n",
    "    fig, ax = plt.subplots(1,1, figsize=(20,14))\n",
    "    ax = sns.scatterplot(data=df, x=\"rating\", y=\"club_rank\", hue=\"club\")\n",
    "    ax.set_yticks(range(len(table_position)), labels=table_position)\n",
    "    ax.set_ylabel(\"Club nach Tabellenplatz\")\n",
    "    ax.legend(loc='upper right')\n",
    "    elevate = 0.1\n",
    "\n",
    "    for i, player in df.iterrows():\n",
    "        if i < (len(df) - 1):\n",
    "            if abs(player.rating - df.iloc[i+1][\"rating\"]) < 4: \n",
    "                elevate = next_elevation(elevate)\n",
    "            else:\n",
    "                elevate = -0.1 if elevate == 0.1 else 0.1\n",
    "        ax.text(player.rating, player.club_rank + elevate, str(player[\"name\"]), horizontalalignment=\"left\", fontsize=\"xx-small\", mouseover=True)\n",
    "        \n",
    "    return fig\n",
    "\n",
    "def next_elevation(old):\n",
    "    if old == 0.2:\n",
    "        return -0.2\n",
    "    elif old == -0.1:\n",
    "        return 0.1\n",
    "    \n",
    "    return old+0.1\n"
   ]
  },
  {
   "cell_type": "code",
   "execution_count": null,
   "metadata": {},
   "outputs": [],
   "source": [
    "# TODO Better layout for this notebook\n",
    "# Functions in notebook for:\n",
    "#   - Previous lineup\n",
    "#   - Position distribution per player\n",
    "#   - Get best possible lineup (with best 4 of them?) \n",
    "engine = create_engine(\"sqlite:///../darts-json.db\")\n",
    "season = datetime(2022, 8, 1)\n",
    "conservative=False\n",
    "\n"
   ]
  },
  {
   "attachments": {},
   "cell_type": "markdown",
   "metadata": {},
   "source": [
    "### A Team"
   ]
  },
  {
   "cell_type": "code",
   "execution_count": null,
   "metadata": {},
   "outputs": [],
   "source": [
    "a_team = \"Landesliga 1\"\n",
    "\n",
    "table_position = [\n",
    "    \"Hannover 96\",\n",
    "    \"DC Dartskulls Basche e.V.\",\n",
    "    \"SDC Osnabrück\",\n",
    "    \"DC No Mercy Gronau e.V.\",\n",
    "    \"Sieben Zwerge Dart Team e.V.\",\n",
    "    \"Neustädter Rübendarter e.V.\",\n",
    "    \"Flying Bulldogs\",\n",
    "    \"TuS Holzhausen/Porta e.V.\",\n",
    "]\n",
    "\n",
    "players = leaderboard(engine, a_team, season=season, conservative=conservative)\n",
    "\n",
    "_ = plot_teams_for_competiton(table_position, players)\n",
    "plt.savefig(f\"../img/a_team_{season.year}_{conservative=}.png\")"
   ]
  },
  {
   "attachments": {},
   "cell_type": "markdown",
   "metadata": {},
   "source": [
    "### B Team"
   ]
  },
  {
   "cell_type": "code",
   "execution_count": null,
   "metadata": {},
   "outputs": [],
   "source": [
    "b_team = \"Verbandsliga 1\"\n",
    "\n",
    "table_position = [\n",
    "    \"GVO Oldenburg\",\n",
    "    \"Hannover 96\",\n",
    "    \"SuS Buer\",\n",
    "    \"SC Drop Out Seelze e.V.\",\n",
    "    \"DC Hameln 79 e.V.\",\n",
    "    \"DC Dudensen\",\n",
    "    \"DC No Mercy Gronau e.V.\",\n",
    "    \"Ith Bulls Lauenstein\",\n",
    "]\n",
    "\n",
    "players = leaderboard(engine, b_team, season=season, conservative=conservative)\n",
    "\n",
    "_ = plot_teams_for_competiton(table_position, players)\n",
    "plt.savefig(f\"../img/b_team_{season.year}_{conservative=}.png\")"
   ]
  },
  {
   "attachments": {},
   "cell_type": "markdown",
   "metadata": {},
   "source": [
    "### C Team"
   ]
  },
  {
   "cell_type": "code",
   "execution_count": null,
   "metadata": {},
   "outputs": [],
   "source": [
    "c_team = \"DBH Bezirksoberliga\"\n",
    "\n",
    "table_position = [\n",
    "    \"1.Dartclub Hildesheim e.V.\",\n",
    "    \"DC Alpakas Hille e.V.\",\n",
    "    \"Hannover 96\",\n",
    "    \"DC Dartskulls Basche e.V.\",\n",
    "    \"Steelbreakers Lehrte e.V.\",\n",
    "    \"Riverside Sharks Hehlen\",\n",
    "    \"DC Langendamm e.V.\",\n",
    "    \"VFL Bad Nenndorf\",\n",
    "]\n",
    "\n",
    "players = leaderboard(engine, c_team, season=season, conservative=conservative)\n",
    "\n",
    "_ = plot_teams_for_competiton(table_position, players)\n",
    "plt.savefig(f\"../img/c_team_{season.year}_{conservative=}.png\")"
   ]
  },
  {
   "attachments": {},
   "cell_type": "markdown",
   "metadata": {},
   "source": [
    "### D Team"
   ]
  },
  {
   "cell_type": "code",
   "execution_count": null,
   "metadata": {},
   "outputs": [],
   "source": [
    "d_team = \"DBH Bezirksliga 2\"\n",
    "\n",
    "table_position = [\n",
    "    \"DC Hameln 79 e.V.\",\n",
    "    \"PDC Hannover e.V.\",\n",
    "    \"Sieben Zwerge Dart Team e.V.\",\n",
    "    \"1.Dartclub Hildesheim e.V.\",\n",
    "    \"Shakespeare Dartists Hannover e.V.\",\n",
    "    \"Hannover 96\",\n",
    "    \"Flying Owls Hörsum e.V.\",\n",
    "    \"Ith Lions Coppenbrügge\",\n",
    "    \"DC Vikings Oesselse/Gleidingen\",\n",
    "    \"Die Zeitdiebe Herrenhausen e.V.\"\n",
    "]\n",
    "\n",
    "players = leaderboard(engine, d_team, season=season, conservative=conservative)\n",
    "\n",
    "_ = plot_teams_for_competiton(table_position, players)\n",
    "plt.savefig(f\"../img/d_team_{season.year}_{conservative=}.png\")"
   ]
  },
  {
   "attachments": {},
   "cell_type": "markdown",
   "metadata": {},
   "source": [
    "### E-Team"
   ]
  },
  {
   "cell_type": "code",
   "execution_count": null,
   "metadata": {},
   "outputs": [],
   "source": [
    "e_team = \"DBH Bezirksklasse 4\"\n",
    "\n",
    "table_position = [\n",
    "    \"Dart Devils Glissen\",\n",
    "    \"DC Sloths Steyerberg\",\n",
    "    \"DSV Stingrays Hannover e.V.\",\n",
    "    \"TuS Lühnde e.V.\",\n",
    "    \"Hannover 96\",\n",
    "    \"Hannoverscher DSC\",\n",
    "    \"SV Northen Lenthe e.V.\",\n",
    "    \"TSV Egestorf e.V.\",\n",
    "    \"Shakespeare Dartists Hannover e.V.\",\n",
    "    \"DC Wild Rovers\"\n",
    "]\n",
    "\n",
    "players = leaderboard(engine, e_team, season=season, conservative=conservative)\n",
    "\n",
    "_ = plot_teams_for_competiton(table_position, players)\n",
    "plt.savefig(f\"../img/e_team_{season.year}_{conservative=}.png\")"
   ]
  },
  {
   "attachments": {},
   "cell_type": "markdown",
   "metadata": {},
   "source": [
    "### F-Team"
   ]
  },
  {
   "cell_type": "code",
   "execution_count": null,
   "metadata": {},
   "outputs": [],
   "source": [
    "f_team = \"DBH Kreisliga 9\"\n",
    "\n",
    "table_position = [\n",
    "    \"TuS Germania Hohnhorst\",\n",
    "    \"FSG Pollhagen/Nordsehl/Lauenhagen\",\n",
    "    \"DC Dartskulls Basche e.V.\",\n",
    "    \"SV Victoria Sachsenhagen 1900 e.V.\",\n",
    "    \"Mühlenberger SV e.V.\",\n",
    "    \"SV Northen Lenthe e.V.\",\n",
    "    \"Hannover 96\",\n",
    "    \"SV Arminia Bunte Hunde e.V.\",\n",
    "    \"Hannoverscher DSC\",\n",
    "    \"VFL Bad Nenndorf\"\n",
    "]\n",
    "\n",
    "players = leaderboard(engine, f_team, season=season, conservative=conservative)\n",
    "\n",
    "_ = plot_teams_for_competiton(table_position, players)\n",
    "plt.savefig(f\"../img/f_team_{season.year}_{conservative=}.png\")"
   ]
  },
  {
   "attachments": {},
   "cell_type": "markdown",
   "metadata": {},
   "source": [
    "### G-Team"
   ]
  },
  {
   "cell_type": "code",
   "execution_count": null,
   "metadata": {},
   "outputs": [],
   "source": [
    "g_team = \"DBH Kreisliga 2\"\n",
    "\n",
    "table_position = [\n",
    "    \"SC Victory e.V.\",\n",
    "    \"DSV Stingrays Hannover e.V.\",\n",
    "    \"SV Uetze e.V.\",\n",
    "    \"Hannover 96\",\n",
    "    \"SV Arminia Bunte Hunde e.V.\",\n",
    "    \"Hannoverscher DSC\",\n",
    "    \"Steelbreakers Lehrte e.V.\",\n",
    "    \"Shakespeare Dartists Hannover e.V.\",\n",
    "    \"DC Diabolo Hannover e.V.\",\n",
    "    \"Die Zeitdiebe Herrenhausen e.V.\"\n",
    "]\n",
    "\n",
    "players = leaderboard(engine, g_team, season=season, conservative=conservative)\n",
    "\n",
    "_ = plot_teams_for_competiton(table_position, players)\n",
    "plt.savefig(f\"../img/g_team_{season.year}_{conservative=}.png\")\n"
   ]
  }
 ],
 "metadata": {
  "kernelspec": {
   "display_name": "darts",
   "language": "python",
   "name": "python3"
  },
  "language_info": {
   "codemirror_mode": {
    "name": "ipython",
    "version": 3
   },
   "file_extension": ".py",
   "mimetype": "text/x-python",
   "name": "python",
   "nbconvert_exporter": "python",
   "pygments_lexer": "ipython3",
   "version": "3.10.6"
  },
  "orig_nbformat": 4,
  "vscode": {
   "interpreter": {
    "hash": "20144c740b733a94525b57be76640d47fbbf9bb84dc2dc2665832d3a336bdd6f"
   }
  }
 },
 "nbformat": 4,
 "nbformat_minor": 2
}
